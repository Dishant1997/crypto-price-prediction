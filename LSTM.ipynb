{
 "cells": [
  {
   "cell_type": "code",
   "execution_count": 229,
   "metadata": {},
   "outputs": [],
   "source": [
    "import os\n",
    "import numpy as np\n",
    "import pandas as pd\n",
    "import tensorflow as tf\n",
    "import matplotlib.pyplot as plt\n",
    "import sklearn.preprocessing\n",
    "from sklearn.preprocessing import MinMaxScaler\n",
    "from sklearn.metrics import r2_score\n",
    "from tensorflow.keras import layers\n",
    "from keras.layers import Dense,Dropout,SimpleRNN,LSTM\n",
    "from keras.models import Sequential\n",
    "from pymongo import MongoClient\n",
    "import seaborn as sns"
   ]
  },
  {
   "cell_type": "code",
   "execution_count": 230,
   "metadata": {},
   "outputs": [
    {
     "data": {
      "text/html": [
       "<div>\n",
       "<style scoped>\n",
       "    .dataframe tbody tr th:only-of-type {\n",
       "        vertical-align: middle;\n",
       "    }\n",
       "\n",
       "    .dataframe tbody tr th {\n",
       "        vertical-align: top;\n",
       "    }\n",
       "\n",
       "    .dataframe thead th {\n",
       "        text-align: right;\n",
       "    }\n",
       "</style>\n",
       "<table border=\"1\" class=\"dataframe\">\n",
       "  <thead>\n",
       "    <tr style=\"text-align: right;\">\n",
       "      <th></th>\n",
       "      <th>_id</th>\n",
       "      <th>Open time</th>\n",
       "      <th>Open</th>\n",
       "      <th>High</th>\n",
       "      <th>Low</th>\n",
       "      <th>Close</th>\n",
       "      <th>Volume</th>\n",
       "      <th>Close time</th>\n",
       "      <th>Quote asset volume</th>\n",
       "      <th>Number of trades</th>\n",
       "      <th>Taker buy base asset volume</th>\n",
       "      <th>Taker buy quote asset volume</th>\n",
       "    </tr>\n",
       "  </thead>\n",
       "  <tbody>\n",
       "    <tr>\n",
       "      <th>0</th>\n",
       "      <td>61099b988eea2a0b11621777</td>\n",
       "      <td>2017-08-17 00:00:00</td>\n",
       "      <td>4261.48</td>\n",
       "      <td>4313.62</td>\n",
       "      <td>4261.32</td>\n",
       "      <td>4308.83</td>\n",
       "      <td>47.18100900</td>\n",
       "      <td>2017-08-17 00:59:59.999</td>\n",
       "      <td>202366.13839304</td>\n",
       "      <td>171</td>\n",
       "      <td>35.16050300</td>\n",
       "      <td>150952.47794304</td>\n",
       "    </tr>\n",
       "    <tr>\n",
       "      <th>1</th>\n",
       "      <td>61099b988eea2a0b11621778</td>\n",
       "      <td>2017-08-17 01:00:00</td>\n",
       "      <td>4308.83</td>\n",
       "      <td>4328.69</td>\n",
       "      <td>4291.37</td>\n",
       "      <td>4315.32</td>\n",
       "      <td>23.23491600</td>\n",
       "      <td>2017-08-17 01:59:59.999</td>\n",
       "      <td>100304.82356749</td>\n",
       "      <td>102</td>\n",
       "      <td>21.44807100</td>\n",
       "      <td>92608.27972836</td>\n",
       "    </tr>\n",
       "    <tr>\n",
       "      <th>2</th>\n",
       "      <td>61099b988eea2a0b11621779</td>\n",
       "      <td>2017-08-17 02:00:00</td>\n",
       "      <td>4330.29</td>\n",
       "      <td>4345.45</td>\n",
       "      <td>4309.37</td>\n",
       "      <td>4324.35</td>\n",
       "      <td>7.22969100</td>\n",
       "      <td>2017-08-17 02:59:59.999</td>\n",
       "      <td>31282.31266989</td>\n",
       "      <td>36</td>\n",
       "      <td>4.80286100</td>\n",
       "      <td>20795.31722405</td>\n",
       "    </tr>\n",
       "    <tr>\n",
       "      <th>3</th>\n",
       "      <td>61099b988eea2a0b1162177a</td>\n",
       "      <td>2017-08-17 03:00:00</td>\n",
       "      <td>4316.62</td>\n",
       "      <td>4349.99</td>\n",
       "      <td>4287.41</td>\n",
       "      <td>4349.99</td>\n",
       "      <td>4.44324900</td>\n",
       "      <td>2017-08-17 03:59:59.999</td>\n",
       "      <td>19241.05829986</td>\n",
       "      <td>25</td>\n",
       "      <td>2.60229200</td>\n",
       "      <td>11291.34701534</td>\n",
       "    </tr>\n",
       "    <tr>\n",
       "      <th>4</th>\n",
       "      <td>61099b988eea2a0b1162177b</td>\n",
       "      <td>2017-08-17 04:00:00</td>\n",
       "      <td>4333.32</td>\n",
       "      <td>4377.85</td>\n",
       "      <td>4333.32</td>\n",
       "      <td>4360.69</td>\n",
       "      <td>0.97280700</td>\n",
       "      <td>2017-08-17 04:59:59.999</td>\n",
       "      <td>4239.50358563</td>\n",
       "      <td>28</td>\n",
       "      <td>0.81465500</td>\n",
       "      <td>3552.74681715</td>\n",
       "    </tr>\n",
       "  </tbody>\n",
       "</table>\n",
       "</div>"
      ],
      "text/plain": [
       "                        _id           Open time     Open     High      Low  \\\n",
       "0  61099b988eea2a0b11621777 2017-08-17 00:00:00  4261.48  4313.62  4261.32   \n",
       "1  61099b988eea2a0b11621778 2017-08-17 01:00:00  4308.83  4328.69  4291.37   \n",
       "2  61099b988eea2a0b11621779 2017-08-17 02:00:00  4330.29  4345.45  4309.37   \n",
       "3  61099b988eea2a0b1162177a 2017-08-17 03:00:00  4316.62  4349.99  4287.41   \n",
       "4  61099b988eea2a0b1162177b 2017-08-17 04:00:00  4333.32  4377.85  4333.32   \n",
       "\n",
       "     Close       Volume              Close time Quote asset volume  \\\n",
       "0  4308.83  47.18100900 2017-08-17 00:59:59.999    202366.13839304   \n",
       "1  4315.32  23.23491600 2017-08-17 01:59:59.999    100304.82356749   \n",
       "2  4324.35   7.22969100 2017-08-17 02:59:59.999     31282.31266989   \n",
       "3  4349.99   4.44324900 2017-08-17 03:59:59.999     19241.05829986   \n",
       "4  4360.69   0.97280700 2017-08-17 04:59:59.999      4239.50358563   \n",
       "\n",
       "  Number of trades Taker buy base asset volume Taker buy quote asset volume  \n",
       "0              171                 35.16050300              150952.47794304  \n",
       "1              102                 21.44807100               92608.27972836  \n",
       "2               36                  4.80286100               20795.31722405  \n",
       "3               25                  2.60229200               11291.34701534  \n",
       "4               28                  0.81465500                3552.74681715  "
      ]
     },
     "execution_count": 230,
     "metadata": {},
     "output_type": "execute_result"
    }
   ],
   "source": [
    "mongo_client = MongoClient('localhost', 27017)\n",
    "\n",
    "db = mongo_client.crypto\n",
    "col = db.cryptodataBTC\n",
    "\n",
    "df = pd.DataFrame(list(col.find()))\n",
    "df.head()"
   ]
  },
  {
   "cell_type": "code",
   "execution_count": 231,
   "metadata": {},
   "outputs": [
    {
     "data": {
      "text/plain": [
       "(34629, 12)"
      ]
     },
     "execution_count": 231,
     "metadata": {},
     "output_type": "execute_result"
    }
   ],
   "source": [
    "df.shape"
   ]
  },
  {
   "cell_type": "code",
   "execution_count": 232,
   "metadata": {},
   "outputs": [],
   "source": [
    "df = df.drop(columns = ['_id', 'Close time'])"
   ]
  },
  {
   "cell_type": "code",
   "execution_count": 233,
   "metadata": {},
   "outputs": [],
   "source": [
    "df = df.rename(columns ={\"Open time\":\"time\"})"
   ]
  },
  {
   "cell_type": "code",
   "execution_count": 234,
   "metadata": {},
   "outputs": [
    {
     "data": {
      "text/html": [
       "<div>\n",
       "<style scoped>\n",
       "    .dataframe tbody tr th:only-of-type {\n",
       "        vertical-align: middle;\n",
       "    }\n",
       "\n",
       "    .dataframe tbody tr th {\n",
       "        vertical-align: top;\n",
       "    }\n",
       "\n",
       "    .dataframe thead th {\n",
       "        text-align: right;\n",
       "    }\n",
       "</style>\n",
       "<table border=\"1\" class=\"dataframe\">\n",
       "  <thead>\n",
       "    <tr style=\"text-align: right;\">\n",
       "      <th></th>\n",
       "      <th>time</th>\n",
       "      <th>Open</th>\n",
       "      <th>High</th>\n",
       "      <th>Low</th>\n",
       "      <th>Close</th>\n",
       "      <th>Volume</th>\n",
       "      <th>Quote asset volume</th>\n",
       "      <th>Number of trades</th>\n",
       "      <th>Taker buy base asset volume</th>\n",
       "      <th>Taker buy quote asset volume</th>\n",
       "    </tr>\n",
       "  </thead>\n",
       "  <tbody>\n",
       "    <tr>\n",
       "      <th>0</th>\n",
       "      <td>2017-08-17 00:00:00</td>\n",
       "      <td>4261.48</td>\n",
       "      <td>4313.62</td>\n",
       "      <td>4261.32</td>\n",
       "      <td>4308.83</td>\n",
       "      <td>47.18100900</td>\n",
       "      <td>202366.13839304</td>\n",
       "      <td>171</td>\n",
       "      <td>35.16050300</td>\n",
       "      <td>150952.47794304</td>\n",
       "    </tr>\n",
       "    <tr>\n",
       "      <th>1</th>\n",
       "      <td>2017-08-17 01:00:00</td>\n",
       "      <td>4308.83</td>\n",
       "      <td>4328.69</td>\n",
       "      <td>4291.37</td>\n",
       "      <td>4315.32</td>\n",
       "      <td>23.23491600</td>\n",
       "      <td>100304.82356749</td>\n",
       "      <td>102</td>\n",
       "      <td>21.44807100</td>\n",
       "      <td>92608.27972836</td>\n",
       "    </tr>\n",
       "    <tr>\n",
       "      <th>2</th>\n",
       "      <td>2017-08-17 02:00:00</td>\n",
       "      <td>4330.29</td>\n",
       "      <td>4345.45</td>\n",
       "      <td>4309.37</td>\n",
       "      <td>4324.35</td>\n",
       "      <td>7.22969100</td>\n",
       "      <td>31282.31266989</td>\n",
       "      <td>36</td>\n",
       "      <td>4.80286100</td>\n",
       "      <td>20795.31722405</td>\n",
       "    </tr>\n",
       "    <tr>\n",
       "      <th>3</th>\n",
       "      <td>2017-08-17 03:00:00</td>\n",
       "      <td>4316.62</td>\n",
       "      <td>4349.99</td>\n",
       "      <td>4287.41</td>\n",
       "      <td>4349.99</td>\n",
       "      <td>4.44324900</td>\n",
       "      <td>19241.05829986</td>\n",
       "      <td>25</td>\n",
       "      <td>2.60229200</td>\n",
       "      <td>11291.34701534</td>\n",
       "    </tr>\n",
       "    <tr>\n",
       "      <th>4</th>\n",
       "      <td>2017-08-17 04:00:00</td>\n",
       "      <td>4333.32</td>\n",
       "      <td>4377.85</td>\n",
       "      <td>4333.32</td>\n",
       "      <td>4360.69</td>\n",
       "      <td>0.97280700</td>\n",
       "      <td>4239.50358563</td>\n",
       "      <td>28</td>\n",
       "      <td>0.81465500</td>\n",
       "      <td>3552.74681715</td>\n",
       "    </tr>\n",
       "    <tr>\n",
       "      <th>...</th>\n",
       "      <td>...</td>\n",
       "      <td>...</td>\n",
       "      <td>...</td>\n",
       "      <td>...</td>\n",
       "      <td>...</td>\n",
       "      <td>...</td>\n",
       "      <td>...</td>\n",
       "      <td>...</td>\n",
       "      <td>...</td>\n",
       "      <td>...</td>\n",
       "    </tr>\n",
       "    <tr>\n",
       "      <th>34624</th>\n",
       "      <td>2021-08-03 15:50:00</td>\n",
       "      <td>38230.02000000</td>\n",
       "      <td>38230.02000000</td>\n",
       "      <td>38230.01000000</td>\n",
       "      <td>38230.02000000</td>\n",
       "      <td>0.23632900</td>\n",
       "      <td>9034.86238758</td>\n",
       "      <td>0.23632900</td>\n",
       "      <td>0.23542900</td>\n",
       "      <td>9000.45537858</td>\n",
       "    </tr>\n",
       "    <tr>\n",
       "      <th>34625</th>\n",
       "      <td>2021-08-03 15:51:00</td>\n",
       "      <td>38241.21000000</td>\n",
       "      <td>38241.22000000</td>\n",
       "      <td>38233.08000000</td>\n",
       "      <td>38237.69000000</td>\n",
       "      <td>0.27962600</td>\n",
       "      <td>10692.51638134</td>\n",
       "      <td>0.27962600</td>\n",
       "      <td>0.15226000</td>\n",
       "      <td>5822.11432785</td>\n",
       "    </tr>\n",
       "    <tr>\n",
       "      <th>34626</th>\n",
       "      <td>2021-08-03 15:52:00</td>\n",
       "      <td>38221.10000000</td>\n",
       "      <td>38221.10000000</td>\n",
       "      <td>38221.10000000</td>\n",
       "      <td>38221.10000000</td>\n",
       "      <td>0.00487700</td>\n",
       "      <td>186.40430470</td>\n",
       "      <td>0.00487700</td>\n",
       "      <td>0.00000000</td>\n",
       "      <td>0.00000000</td>\n",
       "    </tr>\n",
       "    <tr>\n",
       "      <th>34627</th>\n",
       "      <td>2021-08-03 15:53:00</td>\n",
       "      <td>38131.04000000</td>\n",
       "      <td>38131.04000000</td>\n",
       "      <td>38117.25000000</td>\n",
       "      <td>38120.00000000</td>\n",
       "      <td>3.77940600</td>\n",
       "      <td>144075.17837781</td>\n",
       "      <td>3.77940600</td>\n",
       "      <td>1.66943300</td>\n",
       "      <td>63638.76154849</td>\n",
       "    </tr>\n",
       "    <tr>\n",
       "      <th>34628</th>\n",
       "      <td>2021-08-03 15:54:00</td>\n",
       "      <td>38060.52000000</td>\n",
       "      <td>38066.06000000</td>\n",
       "      <td>38060.51000000</td>\n",
       "      <td>38066.06000000</td>\n",
       "      <td>0.06762600</td>\n",
       "      <td>2573.99238054</td>\n",
       "      <td>0.06762600</td>\n",
       "      <td>0.03565600</td>\n",
       "      <td>1357.08805869</td>\n",
       "    </tr>\n",
       "  </tbody>\n",
       "</table>\n",
       "<p>34629 rows × 10 columns</p>\n",
       "</div>"
      ],
      "text/plain": [
       "                     time            Open            High             Low  \\\n",
       "0     2017-08-17 00:00:00         4261.48         4313.62         4261.32   \n",
       "1     2017-08-17 01:00:00         4308.83         4328.69         4291.37   \n",
       "2     2017-08-17 02:00:00         4330.29         4345.45         4309.37   \n",
       "3     2017-08-17 03:00:00         4316.62         4349.99         4287.41   \n",
       "4     2017-08-17 04:00:00         4333.32         4377.85         4333.32   \n",
       "...                   ...             ...             ...             ...   \n",
       "34624 2021-08-03 15:50:00  38230.02000000  38230.02000000  38230.01000000   \n",
       "34625 2021-08-03 15:51:00  38241.21000000  38241.22000000  38233.08000000   \n",
       "34626 2021-08-03 15:52:00  38221.10000000  38221.10000000  38221.10000000   \n",
       "34627 2021-08-03 15:53:00  38131.04000000  38131.04000000  38117.25000000   \n",
       "34628 2021-08-03 15:54:00  38060.52000000  38066.06000000  38060.51000000   \n",
       "\n",
       "                Close       Volume Quote asset volume Number of trades  \\\n",
       "0             4308.83  47.18100900    202366.13839304              171   \n",
       "1             4315.32  23.23491600    100304.82356749              102   \n",
       "2             4324.35   7.22969100     31282.31266989               36   \n",
       "3             4349.99   4.44324900     19241.05829986               25   \n",
       "4             4360.69   0.97280700      4239.50358563               28   \n",
       "...               ...          ...                ...              ...   \n",
       "34624  38230.02000000   0.23632900      9034.86238758       0.23632900   \n",
       "34625  38237.69000000   0.27962600     10692.51638134       0.27962600   \n",
       "34626  38221.10000000   0.00487700       186.40430470       0.00487700   \n",
       "34627  38120.00000000   3.77940600    144075.17837781       3.77940600   \n",
       "34628  38066.06000000   0.06762600      2573.99238054       0.06762600   \n",
       "\n",
       "      Taker buy base asset volume Taker buy quote asset volume  \n",
       "0                     35.16050300              150952.47794304  \n",
       "1                     21.44807100               92608.27972836  \n",
       "2                      4.80286100               20795.31722405  \n",
       "3                      2.60229200               11291.34701534  \n",
       "4                      0.81465500                3552.74681715  \n",
       "...                           ...                          ...  \n",
       "34624                  0.23542900                9000.45537858  \n",
       "34625                  0.15226000                5822.11432785  \n",
       "34626                  0.00000000                   0.00000000  \n",
       "34627                  1.66943300               63638.76154849  \n",
       "34628                  0.03565600                1357.08805869  \n",
       "\n",
       "[34629 rows x 10 columns]"
      ]
     },
     "execution_count": 234,
     "metadata": {},
     "output_type": "execute_result"
    }
   ],
   "source": [
    "df"
   ]
  },
  {
   "cell_type": "code",
   "execution_count": 235,
   "metadata": {},
   "outputs": [
    {
     "name": "stdout",
     "output_type": "stream",
     "text": [
      "The beginning date of the data is 2017-08-17 00:00:00\n",
      "The ending date of the data is 2021-08-03 15:54:00\n"
     ]
    }
   ],
   "source": [
    "print('The beginning date of the data is {}'.format(df['time'].iloc[0]))\n",
    "print('The ending date of the data is {}'.format(df['time'].iloc[-1]))"
   ]
  },
  {
   "cell_type": "code",
   "execution_count": 236,
   "metadata": {},
   "outputs": [],
   "source": [
    "df = df.set_index('time')"
   ]
  },
  {
   "cell_type": "code",
   "execution_count": 237,
   "metadata": {},
   "outputs": [
    {
     "data": {
      "text/html": [
       "<div>\n",
       "<style scoped>\n",
       "    .dataframe tbody tr th:only-of-type {\n",
       "        vertical-align: middle;\n",
       "    }\n",
       "\n",
       "    .dataframe tbody tr th {\n",
       "        vertical-align: top;\n",
       "    }\n",
       "\n",
       "    .dataframe thead th {\n",
       "        text-align: right;\n",
       "    }\n",
       "</style>\n",
       "<table border=\"1\" class=\"dataframe\">\n",
       "  <thead>\n",
       "    <tr style=\"text-align: right;\">\n",
       "      <th></th>\n",
       "      <th>Open</th>\n",
       "      <th>High</th>\n",
       "      <th>Low</th>\n",
       "      <th>Close</th>\n",
       "      <th>Volume</th>\n",
       "      <th>Quote asset volume</th>\n",
       "      <th>Number of trades</th>\n",
       "      <th>Taker buy base asset volume</th>\n",
       "      <th>Taker buy quote asset volume</th>\n",
       "    </tr>\n",
       "    <tr>\n",
       "      <th>time</th>\n",
       "      <th></th>\n",
       "      <th></th>\n",
       "      <th></th>\n",
       "      <th></th>\n",
       "      <th></th>\n",
       "      <th></th>\n",
       "      <th></th>\n",
       "      <th></th>\n",
       "      <th></th>\n",
       "    </tr>\n",
       "  </thead>\n",
       "  <tbody>\n",
       "    <tr>\n",
       "      <th>2017-08-17 00:00:00</th>\n",
       "      <td>4261.48</td>\n",
       "      <td>4313.62</td>\n",
       "      <td>4261.32</td>\n",
       "      <td>4308.83</td>\n",
       "      <td>47.18100900</td>\n",
       "      <td>202366.13839304</td>\n",
       "      <td>171</td>\n",
       "      <td>35.16050300</td>\n",
       "      <td>150952.47794304</td>\n",
       "    </tr>\n",
       "    <tr>\n",
       "      <th>2017-08-17 01:00:00</th>\n",
       "      <td>4308.83</td>\n",
       "      <td>4328.69</td>\n",
       "      <td>4291.37</td>\n",
       "      <td>4315.32</td>\n",
       "      <td>23.23491600</td>\n",
       "      <td>100304.82356749</td>\n",
       "      <td>102</td>\n",
       "      <td>21.44807100</td>\n",
       "      <td>92608.27972836</td>\n",
       "    </tr>\n",
       "    <tr>\n",
       "      <th>2017-08-17 02:00:00</th>\n",
       "      <td>4330.29</td>\n",
       "      <td>4345.45</td>\n",
       "      <td>4309.37</td>\n",
       "      <td>4324.35</td>\n",
       "      <td>7.22969100</td>\n",
       "      <td>31282.31266989</td>\n",
       "      <td>36</td>\n",
       "      <td>4.80286100</td>\n",
       "      <td>20795.31722405</td>\n",
       "    </tr>\n",
       "    <tr>\n",
       "      <th>2017-08-17 03:00:00</th>\n",
       "      <td>4316.62</td>\n",
       "      <td>4349.99</td>\n",
       "      <td>4287.41</td>\n",
       "      <td>4349.99</td>\n",
       "      <td>4.44324900</td>\n",
       "      <td>19241.05829986</td>\n",
       "      <td>25</td>\n",
       "      <td>2.60229200</td>\n",
       "      <td>11291.34701534</td>\n",
       "    </tr>\n",
       "    <tr>\n",
       "      <th>2017-08-17 04:00:00</th>\n",
       "      <td>4333.32</td>\n",
       "      <td>4377.85</td>\n",
       "      <td>4333.32</td>\n",
       "      <td>4360.69</td>\n",
       "      <td>0.97280700</td>\n",
       "      <td>4239.50358563</td>\n",
       "      <td>28</td>\n",
       "      <td>0.81465500</td>\n",
       "      <td>3552.74681715</td>\n",
       "    </tr>\n",
       "  </tbody>\n",
       "</table>\n",
       "</div>"
      ],
      "text/plain": [
       "                        Open     High      Low    Close       Volume  \\\n",
       "time                                                                   \n",
       "2017-08-17 00:00:00  4261.48  4313.62  4261.32  4308.83  47.18100900   \n",
       "2017-08-17 01:00:00  4308.83  4328.69  4291.37  4315.32  23.23491600   \n",
       "2017-08-17 02:00:00  4330.29  4345.45  4309.37  4324.35   7.22969100   \n",
       "2017-08-17 03:00:00  4316.62  4349.99  4287.41  4349.99   4.44324900   \n",
       "2017-08-17 04:00:00  4333.32  4377.85  4333.32  4360.69   0.97280700   \n",
       "\n",
       "                    Quote asset volume Number of trades  \\\n",
       "time                                                      \n",
       "2017-08-17 00:00:00    202366.13839304              171   \n",
       "2017-08-17 01:00:00    100304.82356749              102   \n",
       "2017-08-17 02:00:00     31282.31266989               36   \n",
       "2017-08-17 03:00:00     19241.05829986               25   \n",
       "2017-08-17 04:00:00      4239.50358563               28   \n",
       "\n",
       "                    Taker buy base asset volume Taker buy quote asset volume  \n",
       "time                                                                          \n",
       "2017-08-17 00:00:00                 35.16050300              150952.47794304  \n",
       "2017-08-17 01:00:00                 21.44807100               92608.27972836  \n",
       "2017-08-17 02:00:00                  4.80286100               20795.31722405  \n",
       "2017-08-17 03:00:00                  2.60229200               11291.34701534  \n",
       "2017-08-17 04:00:00                  0.81465500                3552.74681715  "
      ]
     },
     "execution_count": 237,
     "metadata": {},
     "output_type": "execute_result"
    }
   ],
   "source": [
    "df.head(5)"
   ]
  },
  {
   "cell_type": "code",
   "execution_count": 238,
   "metadata": {},
   "outputs": [
    {
     "data": {
      "text/plain": [
       "(34629, 9)"
      ]
     },
     "execution_count": 238,
     "metadata": {},
     "output_type": "execute_result"
    }
   ],
   "source": [
    "def normalize_data(df1):\n",
    "    scaler = sklearn.preprocessing.MinMaxScaler()\n",
    "    df1['Close']=scaler.fit_transform(df1['Close'].values.reshape(-1,1))\n",
    "    return df1\n",
    "\n",
    "df_norm = normalize_data(df)\n",
    "df_norm.shape"
   ]
  },
  {
   "cell_type": "code",
   "execution_count": 239,
   "metadata": {},
   "outputs": [
    {
     "data": {
      "text/plain": [
       "Text(0.5, 1.0, 'Price of Bitcoin')"
      ]
     },
     "execution_count": 239,
     "metadata": {},
     "output_type": "execute_result"
    },
    {
     "data": {
      "image/png": "[encoded data removed]",
      "text/plain": [
       "<Figure size 864x432 with 1 Axes>"
      ]
     },
     "metadata": {
      "needs_background": "light"
     },
     "output_type": "display_data"
    }
   ],
   "source": [
    "plt.figure(figsize=(12,6))\n",
    "sns.lineplot(x=df.index, y=\"Close\", data=df_norm).set_title(\"Price of Bitcoin\")"
   ]
  },
  {
   "cell_type": "code",
   "execution_count": 240,
   "metadata": {},
   "outputs": [],
   "source": [
    "data = df.iloc[:, 0]\n",
    "hist = []\n",
    "target = []\n",
    "length = 250\n",
    "for i in range(len(data)-length):\n",
    "    x = data[i:i+length]\n",
    "    y = data[i+length]\n",
    "    hist.append(x)\n",
    "    target.append(y)"
   ]
  },
  {
   "cell_type": "code",
   "execution_count": 241,
   "metadata": {},
   "outputs": [
    {
     "name": "stdout",
     "output_type": "stream",
     "text": [
      "4312.69\n",
      "4077.0\n",
      "4312.69\n"
     ]
    }
   ],
   "source": [
    "print(hist[1][249])\n",
    "print(data[50])\n",
    "print(target[0])"
   ]
  },
  {
   "cell_type": "code",
   "execution_count": 242,
   "metadata": {},
   "outputs": [],
   "source": [
    "hist = np.array(hist)\n",
    "target = np.array(target)\n",
    "target = target.reshape(-1,1)"
   ]
  },
  {
   "cell_type": "code",
   "execution_count": 243,
   "metadata": {},
   "outputs": [
    {
     "data": {
      "text/plain": [
       "(34379, 250)"
      ]
     },
     "execution_count": 243,
     "metadata": {},
     "output_type": "execute_result"
    }
   ],
   "source": [
    "hist.shape"
   ]
  },
  {
   "cell_type": "code",
   "execution_count": 244,
   "metadata": {},
   "outputs": [
    {
     "data": {
      "text/plain": [
       "(34379, 1)"
      ]
     },
     "execution_count": 244,
     "metadata": {},
     "output_type": "execute_result"
    }
   ],
   "source": [
    "target.shape"
   ]
  },
  {
   "cell_type": "code",
   "execution_count": 245,
   "metadata": {},
   "outputs": [],
   "source": [
    "sc = MinMaxScaler()\n",
    "hist_scaled = sc.fit_transform(hist)\n",
    "target_scaled = sc.fit_transform(target)"
   ]
  },
  {
   "cell_type": "code",
   "execution_count": 247,
   "metadata": {},
   "outputs": [
    {
     "name": "stdout",
     "output_type": "stream",
     "text": [
      "(34379, 250, 1)\n"
     ]
    }
   ],
   "source": [
    "hist_scaled = hist_scaled.reshape((len(hist_scaled), length, 1))\n",
    "print(hist_scaled.shape)"
   ]
  },
  {
   "cell_type": "code",
   "execution_count": 248,
   "metadata": {},
   "outputs": [],
   "source": [
    "X_train = hist_scaled[:33500,:,:]\n",
    "X_test = hist_scaled[33500:,:,:]\n",
    "y_train = target_scaled[:33500,:]\n",
    "y_test = target_scaled[33500:,:]"
   ]
  },
  {
   "cell_type": "code",
   "execution_count": 249,
   "metadata": {},
   "outputs": [
    {
     "name": "stdout",
     "output_type": "stream",
     "text": [
      "Model: \"sequential_19\"\n",
      "_________________________________________________________________\n",
      "Layer (type)                 Output Shape              Param #   \n",
      "=================================================================\n",
      "lstm_48 (LSTM)               (None, 250, 32)           4352      \n",
      "_________________________________________________________________\n",
      "lstm_49 (LSTM)               (None, 250, 32)           8320      \n",
      "_________________________________________________________________\n",
      "lstm_50 (LSTM)               (None, 32)                8320      \n",
      "_________________________________________________________________\n",
      "dense_18 (Dense)             (None, 1)                 33        \n",
      "=================================================================\n",
      "Total params: 21,025\n",
      "Trainable params: 21,025\n",
      "Non-trainable params: 0\n",
      "_________________________________________________________________\n"
     ]
    }
   ],
   "source": [
    "model = tf.keras.Sequential()\n",
    "model.add(layers.LSTM(units=32, return_sequences=True, input_shape=(250,1), dropout=0.2))\n",
    "model.add(layers.LSTM(units=32, return_sequences=True, dropout=0.2))\n",
    "model.add(layers.LSTM(units=32, dropout=0.2))\n",
    "model.add(layers.Dense(units=1))\n",
    "model.summary()"
   ]
  },
  {
   "cell_type": "code",
   "execution_count": 250,
   "metadata": {},
   "outputs": [],
   "source": [
    "model.compile(optimizer='adam', loss='mean_squared_error')"
   ]
  },
  {
   "cell_type": "code",
   "execution_count": 251,
   "metadata": {},
   "outputs": [
    {
     "name": "stdout",
     "output_type": "stream",
     "text": [
      "Epoch 1/3\n",
      "524/524 [==============================] - 109s 187ms/step - loss: 0.0055\n",
      "Epoch 2/3\n",
      "524/524 [==============================] - 99s 189ms/step - loss: 5.9626e-04\n",
      "Epoch 3/3\n",
      "524/524 [==============================] - 95s 181ms/step - loss: 5.0811e-04\n"
     ]
    }
   ],
   "source": [
    "history = model.fit(X_train, y_train, epochs=3, batch_size=64)"
   ]
  },
  {
   "cell_type": "code",
   "execution_count": 252,
   "metadata": {},
   "outputs": [
    {
     "data": {
      "image/png": "[encoded data removed]",
      "text/plain": [
       "<Figure size 864x576 with 1 Axes>"
      ]
     },
     "metadata": {
      "needs_background": "light"
     },
     "output_type": "display_data"
    }
   ],
   "source": [
    "loss = history.history['loss']\n",
    "epoch_count = range(1, len(loss) + 1)\n",
    "plt.figure(figsize=(12,8))\n",
    "plt.plot(epoch_count, loss, 'r--')\n",
    "plt.legend(['Training Loss'])\n",
    "plt.xlabel('Epoch')\n",
    "plt.ylabel('Loss')\n",
    "plt.show();"
   ]
  },
  {
   "cell_type": "code",
   "execution_count": 253,
   "metadata": {},
   "outputs": [
    {
     "data": {
      "image/png": "[encoded data removed]",
      "text/plain": [
       "<Figure size 864x576 with 1 Axes>"
      ]
     },
     "metadata": {
      "needs_background": "light"
     },
     "output_type": "display_data"
    }
   ],
   "source": [
    "pred = model.predict(X_test)\n",
    "plt.figure(figsize=(12,8))\n",
    "plt.plot(y_test, color='blue', label='Real')\n",
    "plt.plot(pred, color='red', label='Prediction')\n",
    "plt.title('Bitcoin Price Prediction')\n",
    "plt.legend()\n",
    "plt.show()"
   ]
  }
 ],
 "metadata": {
  "kernelspec": {
   "display_name": "Python 3",
   "language": "python",
   "name": "python3"
  },
  "language_info": {
   "codemirror_mode": {
    "name": "ipython",
    "version": 3
   },
   "file_extension": ".py",
   "mimetype": "text/x-python",
   "name": "python",
   "nbconvert_exporter": "python",
   "pygments_lexer": "ipython3",
   "version": "3.8.5"
  }
 },
 "nbformat": 4,
 "nbformat_minor": 4
}
